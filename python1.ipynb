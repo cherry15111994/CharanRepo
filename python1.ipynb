{
 "cells": [
  {
   "cell_type": "code",
   "execution_count": 1,
   "id": "b3bcbd5e",
   "metadata": {},
   "outputs": [
    {
     "name": "stdout",
     "output_type": "stream",
     "text": [
      "hello world\n"
     ]
    }
   ],
   "source": [
    "print('hello world')"
   ]
  },
  {
   "cell_type": "code",
   "execution_count": 2,
   "id": "abeeb8b8",
   "metadata": {},
   "outputs": [
    {
     "name": "stdout",
     "output_type": "stream",
     "text": [
      "10\n",
      "20\n",
      "charan\n"
     ]
    }
   ],
   "source": [
    "x=10\n",
    "y=20\n",
    "MyName=\"charan\"\n",
    "\n",
    "print(x)\n",
    "print(y)\n",
    "print(MyName)"
   ]
  },
  {
   "cell_type": "code",
   "execution_count": 3,
   "id": "3aecd70e",
   "metadata": {},
   "outputs": [
    {
     "name": "stdout",
     "output_type": "stream",
     "text": [
      "charan reddy\n"
     ]
    }
   ],
   "source": [
    "firstName='charan'\n",
    "lastName='reddy'\n",
    "\n",
    "print(firstName ,lastName)"
   ]
  },
  {
   "cell_type": "code",
   "execution_count": 4,
   "id": "0877aa9f",
   "metadata": {},
   "outputs": [
    {
     "name": "stdout",
     "output_type": "stream",
     "text": [
      "charanreddy\n"
     ]
    }
   ],
   "source": [
    "print(firstName+lastName)"
   ]
  },
  {
   "cell_type": "code",
   "execution_count": 5,
   "id": "ee88c281",
   "metadata": {},
   "outputs": [
    {
     "name": "stdout",
     "output_type": "stream",
     "text": [
      "100\n"
     ]
    }
   ],
   "source": [
    "a=30\n",
    "b=70\n",
    "\n",
    "print(a+b)"
   ]
  },
  {
   "cell_type": "code",
   "execution_count": 6,
   "id": "7a324ecf",
   "metadata": {},
   "outputs": [
    {
     "name": "stdout",
     "output_type": "stream",
     "text": [
      "the sum of a and b is 100\n"
     ]
    }
   ],
   "source": [
    "print('the sum of a and b is',a+b)"
   ]
  },
  {
   "cell_type": "code",
   "execution_count": null,
   "id": "03f76a95",
   "metadata": {},
   "outputs": [],
   "source": []
  }
 ],
 "metadata": {
  "kernelspec": {
   "display_name": "Python 3 (ipykernel)",
   "language": "python",
   "name": "python3"
  },
  "language_info": {
   "codemirror_mode": {
    "name": "ipython",
    "version": 3
   },
   "file_extension": ".py",
   "mimetype": "text/x-python",
   "name": "python",
   "nbconvert_exporter": "python",
   "pygments_lexer": "ipython3",
   "version": "3.9.12"
  }
 },
 "nbformat": 4,
 "nbformat_minor": 5
}
